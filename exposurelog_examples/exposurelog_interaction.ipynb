{
 "cells": [
  {
   "cell_type": "markdown",
   "id": "76080ae3",
   "metadata": {},
   "source": [
    "# Interacting with the exposure log from a notebook"
   ]
  },
  {
   "cell_type": "markdown",
   "id": "04ba5c30",
   "metadata": {},
   "source": [
    "## Introduction"
   ]
  },
  {
   "cell_type": "markdown",
   "id": "4c66dca9",
   "metadata": {},
   "source": [
    "The exposurelog service exposes an endpoint that, depending on how it is called, can perform various actions on the exposure log stored in the database.\n",
    "The intent of this notebook is to show examples of how one can wrap the underlying calls to make the interaction more like other client libraries.\n",
    "The operations that can be done with the service endpoint are to:\n",
    "* Get messages -- by default this is all the messages marked `is_valid`, but can be configured to return all messages\n",
    "* Find a message by ID -- return a message as a dictionary for a particular message id if it exists\n",
    "* Add a message -- Inserts a new message in the database.  By default, the observation ID must already exist in the repository, but if `is_new` is set to `True` the service will not do the check assuming that observation ID will show up in the repository eventually.\n",
    "* Edit a message -- Edit an existing message.  In reality, this creates a new message in the database and marks the old one with `is_valid=False` and associating the new message with the old message ID as its parent.\n",
    "* Delete a message -- This removes a message from the exposurelog, by marking the record associated with the message ID as invalid.\n",
    "* Search for messages -- There are many ways for searching the messages and constraints can be stacked togehter."
   ]
  },
  {
   "cell_type": "markdown",
   "id": "cde2784d",
   "metadata": {},
   "source": [
    "## Set up some helper functions"
   ]
  },
  {
   "cell_type": "markdown",
   "id": "da9b031b",
   "metadata": {},
   "source": [
    "In principle there can be lots of instances of the exposure log service.\n",
    "The `ENDPOINT` variable configures which particular instance you wish to query."
   ]
  },
  {
   "cell_type": "code",
   "execution_count": null,
   "id": "f9252e72",
   "metadata": {},
   "outputs": [],
   "source": [
    "from dataclasses import field, dataclass\n",
    "from datetime import datetime\n",
    "import os\n",
    "import pandas as pd\n",
    "import requests\n",
    "from typing import List\n",
    "\n",
    "ENDPOINT = 'https://base-lsp.lsst.codes/exposurelog/messages/'"
   ]
  },
  {
   "cell_type": "markdown",
   "id": "1ffad96c",
   "metadata": {},
   "source": [
    "This simply checks that the result from a request is successful."
   ]
  },
  {
   "cell_type": "code",
   "execution_count": null,
   "id": "822b1a2d",
   "metadata": {},
   "outputs": [],
   "source": [
    "def check_resp(resp, success=200):\n",
    "    if resp.status_code == success:\n",
    "        return\n",
    "    else:\n",
    "        # Maybe try to get some info out of the response on failure\n",
    "        raise ValueError(f'Request failed with code: {resp.status_code}')"
   ]
  },
  {
   "cell_type": "markdown",
   "id": "f120d66b",
   "metadata": {},
   "source": [
    "Add a message.\n",
    "If a `user_id` is not specified, it will try to use the username in this container.\n",
    "If a `user_agent` is not specified, a default indicating that the message is coming from a notebook running in nublado."
   ]
  },
  {
   "cell_type": "code",
   "execution_count": null,
   "id": "d37b2744",
   "metadata": {},
   "outputs": [],
   "source": [
    "def add_message(obs_id, instrument, message_text, user_id=None, user_agent=None, is_new=False, is_human=True, exposure_flag='none'):\n",
    "    if exposure_flag not in ['none', 'junk', 'questionable']:\n",
    "        raise ValueError('The exposure_flag argument must be one of: none, junk, or questionable')\n",
    "    data = {'obs_id': obs_id, 'instrument': instrument, 'message_text': message_text, 'is_new': is_new, 'is_human': is_human, 'exposure_flag': exposure_flag}\n",
    "    if user_id:\n",
    "        data['user_id'] = user_id\n",
    "    else:\n",
    "        data['user_id'] = os.environ['JUPYTERHUB_USER']\n",
    "    if user_agent:\n",
    "        data['user_agent'] = user_agent\n",
    "    else:\n",
    "        data['user_agent'] = 'notebook:nublado'\n",
    "        \n",
    "    resp = requests.post(ENDPOINT, json=data)\n",
    "    check_resp(resp)\n",
    "    return resp.json()"
   ]
  },
  {
   "cell_type": "markdown",
   "id": "a372410a",
   "metadata": {},
   "source": [
    "Get all historical messages.\n",
    "By default this will return a `pandas.DataFrame`, but can be configured to return a list of dictionaries instead.\n",
    "Only valid messages are returned unless `all=True` in which case both valid and invalid messages are returned."
   ]
  },
  {
   "cell_type": "code",
   "execution_count": null,
   "id": "2bb64b1d",
   "metadata": {},
   "outputs": [],
   "source": [
    "def get_messages(all=False, as_dataframe=True):\n",
    "    resp = requests.get(ENDPOINT)\n",
    "    check_resp(resp)\n",
    "    messages = resp.json()    \n",
    "    if all:\n",
    "        params = {'is_valid': False}\n",
    "        resp = requests.get(ENDPOINT, params=params)\n",
    "        check_resp(resp)\n",
    "        messages += resp.json()\n",
    "    if as_dataframe:\n",
    "        return pd.DataFrame(messages)\n",
    "    return messages"
   ]
  },
  {
   "cell_type": "markdown",
   "id": "8207e41b",
   "metadata": {},
   "source": [
    "Given you know the ID for a specific message, retrieve that message as a dictionary."
   ]
  },
  {
   "cell_type": "code",
   "execution_count": null,
   "id": "8603bd83",
   "metadata": {},
   "outputs": [],
   "source": [
    "def get_message_by_id(message_id):\n",
    "    resp = requests.get(f'{ENDPOINT}{message_id}')\n",
    "    check_resp(resp)\n",
    "    return resp.json()"
   ]
  },
  {
   "cell_type": "markdown",
   "id": "1a76f84b",
   "metadata": {},
   "source": [
    "Edit a message.\n",
    "None of the message fields are required, but specifying none of them will result in an exact copy of the message matching `message_id`.\n",
    "By default this will raise an exception if an invalid message is being edited, but this can be overridden."
   ]
  },
  {
   "cell_type": "code",
   "execution_count": null,
   "id": "6fe9d5f2",
   "metadata": {},
   "outputs": [],
   "source": [
    "def edit_message(message_id, message_text=None, site_id=None, user_id=None, user_agent=None, is_human=None, exposure_flag=None, check_validity=True):\n",
    "    resp = requests.get(f'{ENDPOINT}{message_id}')\n",
    "    check_resp(resp)\n",
    "    message = resp.json()\n",
    "    if not message['is_valid'] and check_validity:\n",
    "        raise ValueError(f'Message {message_id} is marked as invalid in the database.')\n",
    "    data = {}\n",
    "    loc_vars = locals()\n",
    "    for k in ['message_text', 'site_id', 'user_id', 'user_agent', 'is_human', 'exposure_flag']:\n",
    "        if loc_vars[k]:\n",
    "            data[k] = loc_vars[k]\n",
    "        else:\n",
    "            data[k] = message[k]\n",
    "    resp = requests.patch(f'{ENDPOINT}{message_id}', json=data)\n",
    "    check_resp(resp)\n",
    "    return resp.json()"
   ]
  },
  {
   "cell_type": "markdown",
   "id": "8c4dbe07",
   "metadata": {},
   "source": [
    "Delete the message matching `message_id`."
   ]
  },
  {
   "cell_type": "code",
   "execution_count": null,
   "id": "84760f52",
   "metadata": {},
   "outputs": [],
   "source": [
    "def delete_message(message_id):\n",
    "    resp = requests.delete(f'{ENDPOINT}{message_id}')\n",
    "    check_resp(resp, success=204)"
   ]
  },
  {
   "cell_type": "markdown",
   "id": "62fd74da",
   "metadata": {},
   "source": [
    "Searching is a little more complicated since it can involve lots of parameters.\n",
    "I chose to implement this as a class with a search method.\n",
    "Simply instantiate the class passing the constraints you wish and call the `search()` method on the object.\n",
    "This defaults to returning the 50 most recent valid messages.\n",
    "Those are the same defaults as the service itself."
   ]
  },
  {
   "cell_type": "code",
   "execution_count": null,
   "id": "9f3e178c",
   "metadata": {},
   "outputs": [],
   "source": [
    "@dataclass\n",
    "class MessageSearcher:\n",
    "    site_ids: List[str] = None\n",
    "    obs_id: str = None\n",
    "    instruments: List[str] = None\n",
    "    min_day_obs: int = None\n",
    "    max_day_obs: int = None\n",
    "    message_text: str = None\n",
    "    user_ids: List[str] = None\n",
    "    user_agents: List[str] = None\n",
    "    is_human: bool = None\n",
    "    is_valid: bool = True\n",
    "    exposure_flags: str = None\n",
    "    min_date_added: datetime = None\n",
    "    max_date_added: datetime = None\n",
    "    has_date_invalidated: bool = None\n",
    "    min_date_invalidated: datetime = None\n",
    "    max_date_invalidated: datetime = None\n",
    "    has_parent_id: bool = None\n",
    "    order_by: List[str] = None\n",
    "    offset: int = 0\n",
    "    limit: int = 50\n",
    "\n",
    "    def search(self, as_dataframe=True):\n",
    "        params = {}\n",
    "        for k in self.__dict__:\n",
    "            if self.__dict__[k]:\n",
    "                params[k] = self.__dict__[k]\n",
    "        resp = requests.get(f'{ENDPOINT}', params=params)\n",
    "        check_resp(resp)\n",
    "        if as_dataframe:\n",
    "            return pd.DataFrame(resp.json())\n",
    "        return resp.json()"
   ]
  },
  {
   "cell_type": "markdown",
   "id": "979c6ebf",
   "metadata": {},
   "source": [
    "## Let's try things out"
   ]
  },
  {
   "cell_type": "markdown",
   "id": "9a5dbee3",
   "metadata": {},
   "source": [
    "First, list all valid messages."
   ]
  },
  {
   "cell_type": "code",
   "execution_count": null,
   "id": "06ccba05",
   "metadata": {},
   "outputs": [],
   "source": [
    "valid_messages = get_messages()\n",
    "valid_messages.sort_values(by=['date_added'], ascending=False)  # Sort messages by when they are added with newer ones on top"
   ]
  },
  {
   "cell_type": "markdown",
   "id": "454bcd9f",
   "metadata": {},
   "source": [
    "Let's try adding a message.\n",
    "We'll just give the minimum information.\n",
    "Remember we will have to specify `is_new` since we don't have a valid observation id hanging around right now.\n",
    "A copy of the message as it was ingested is returned.\n",
    "\n",
    "> Note that currently the service does not provide validation of instrument names, so we will have to be fairly rigorous about our conventions for names of the various instruments"
   ]
  },
  {
   "cell_type": "code",
   "execution_count": null,
   "id": "014efa35",
   "metadata": {},
   "outputs": [],
   "source": [
    "message = add_message('Testing Obs ID', 'AuxTel', 'This is the message text used by the demo notebook', is_new=True)\n",
    "message"
   ]
  },
  {
   "cell_type": "markdown",
   "id": "463558c5",
   "metadata": {},
   "source": [
    "Now we can get the message back that we put in."
   ]
  },
  {
   "cell_type": "code",
   "execution_count": null,
   "id": "1195e094",
   "metadata": {},
   "outputs": [],
   "source": [
    "new_message = get_message_by_id(message['id'])\n",
    "new_message"
   ]
  },
  {
   "cell_type": "markdown",
   "id": "4e611c6d",
   "metadata": {},
   "source": [
    "Why not fix up the message a little.\n",
    "Notice that the parent_id in the edited message points to the message we originally added."
   ]
  },
  {
   "cell_type": "code",
   "execution_count": null,
   "id": "5e87c4b1",
   "metadata": {},
   "outputs": [],
   "source": [
    "edit_message = edit_message(message['id'], message_text='An example of changing the message text after the fact')\n",
    "edit_message"
   ]
  },
  {
   "cell_type": "markdown",
   "id": "05d0a8f4",
   "metadata": {},
   "source": [
    "We can see both the parent message and the edited one by looking at the list of all messages.\n",
    "Notice the original message still exists, but is now marked invalid."
   ]
  },
  {
   "cell_type": "code",
   "execution_count": null,
   "id": "521ede43",
   "metadata": {},
   "outputs": [],
   "source": [
    "all_messages = get_messages(all=True)\n",
    "all_messages.sort_values(by=['date_added'], ascending=False)"
   ]
  },
  {
   "cell_type": "markdown",
   "id": "9019f8c7",
   "metadata": {},
   "source": [
    "It turns out we don't want that message after all.\n",
    "Remember we edited the message, so we need to use the id of the edited message, not the original we added.\n",
    "Then list all message to confirm it is now invalid."
   ]
  },
  {
   "cell_type": "code",
   "execution_count": null,
   "id": "013da7fb",
   "metadata": {},
   "outputs": [],
   "source": [
    "delete_message(edit_message['id'])"
   ]
  },
  {
   "cell_type": "code",
   "execution_count": null,
   "id": "911dccc2",
   "metadata": {},
   "outputs": [],
   "source": [
    "all_messages = get_messages(all=True)\n",
    "all_messages.sort_values(by=['date_added'], ascending=False)"
   ]
  }
 ],
 "metadata": {
  "kernelspec": {
   "display_name": "LSST",
   "language": "python",
   "name": "lsst"
  },
  "language_info": {
   "codemirror_mode": {
    "name": "ipython",
    "version": 3
   },
   "file_extension": ".py",
   "mimetype": "text/x-python",
   "name": "python",
   "nbconvert_exporter": "python",
   "pygments_lexer": "ipython3",
   "version": "3.8.8"
  }
 },
 "nbformat": 4,
 "nbformat_minor": 5
}
