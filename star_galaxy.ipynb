{
 "cells": [
  {
   "cell_type": "markdown",
   "metadata": {},
   "source": [
    "# A very simple example of star/galaxy separation"
   ]
  },
  {
   "cell_type": "markdown",
   "metadata": {},
   "source": [
    "### First set up some `matplotlib` defaults"
   ]
  },
  {
   "cell_type": "code",
   "execution_count": null,
   "metadata": {},
   "outputs": [],
   "source": [
    "%matplotlib inline\n",
    "import matplotlib.pyplot as plt\n",
    "plt.rcParams['figure.figsize'] = (13, 8)"
   ]
  },
  {
   "cell_type": "markdown",
   "metadata": {},
   "source": [
    "### Next import modules for use later"
   ]
  },
  {
   "cell_type": "code",
   "execution_count": null,
   "metadata": {},
   "outputs": [],
   "source": [
    "import numpy\n",
    "import lsst.daf.persistence as daf_persistence\n",
    "import lsst.afw.geom as afw_geom"
   ]
  },
  {
   "cell_type": "markdown",
   "metadata": {},
   "source": [
    "### Define a utility function for use later"
   ]
  },
  {
   "cell_type": "markdown",
   "metadata": {},
   "source": [
    "This function is a very simple image display tool.  It will plot a sub-region if you want and will overlay sources if you pass a catalog."
   ]
  },
  {
   "cell_type": "code",
   "execution_count": null,
   "metadata": {},
   "outputs": [],
   "source": [
    "def overlay_masks(exposure, bbox=None, sources=None):\n",
    "    masked_image = exposure.getMaskedImage()\n",
    "    if bbox is not None:\n",
    "        masked_image = masked_image.Factory(masked_image, bbox)\n",
    "    (img, mask, var) = masked_image.getArrays()\n",
    "    plt.imshow(numpy.log10(img-2*img.min()), interpolation='nearest', cmap='gray')\n",
    "    plt.imshow(mask, interpolation='nearest', cmap='Blues', alpha=0.3)\n",
    "    if sources is not None:\n",
    "        testbox = afw_geom.Box2D(bbox) # convert to a floating point box\n",
    "        for source in sources:\n",
    "            if testbox.contains(source.getCentroid()):\n",
    "                # Need to account for difference in pixel indexing between matplotlib and stack\n",
    "                plt.scatter(source.getX()-testbox.getMinX()-0.5, source.getY()-testbox.getMinY()-0.5, \n",
    "                            marker='+', c='r', alpha=0.5)\n",
    "    plt.show()"
   ]
  },
  {
   "cell_type": "markdown",
   "metadata": {},
   "source": [
    "### Get some data\n",
    "This is a very small sample of DECam data that has already been reduced by the LSST stack.  It is a valid butler repository, so we can use standard LSST tools to interact with it."
   ]
  },
  {
   "cell_type": "code",
   "execution_count": null,
   "metadata": {},
   "outputs": [],
   "source": [
    "!if ! [ -d singlechip_sample ]; then curl -O https://lsst-web.ncsa.illinois.edu/~krughoff/data/singlechip.tar.gz ; tar zxvf singlechip.tar.gz; fi"
   ]
  },
  {
   "cell_type": "markdown",
   "metadata": {},
   "source": [
    "### Now we can make a butler\n",
    "The `Butler` is the data abstraction layer for our stack.  Simply instantiate with a path to a valid repository.  Then you can ask for data be type and a set of unique identifiers.  In this case, I'm getting a calibrated exposure, or `calexp`."
   ]
  },
  {
   "cell_type": "code",
   "execution_count": null,
   "metadata": {},
   "outputs": [],
   "source": [
    "butler = daf_persistence.Butler('singlechip_sample')\n",
    "exp = butler.get('calexp', visit=410877, ccd=28, filter='r')"
   ]
  },
  {
   "cell_type": "markdown",
   "metadata": {},
   "source": [
    "### Now let's do something with the exposure\n",
    "First we construct a bounding box for a subregion in the image.  Then get a source catalog using the `Butler`.  Finally, use the utility function above to plot the image, masks, and source."
   ]
  },
  {
   "cell_type": "code",
   "execution_count": null,
   "metadata": {},
   "outputs": [],
   "source": [
    "bbox = afw_geom.Box2I(afw_geom.Point2I(1024, 1024), afw_geom.Extent2I(512,512))\n",
    "sources = butler.get('src', visit=410877, ccd=28, filter='r')\n",
    "overlay_masks(exp, bbox=bbox, sources=sources)"
   ]
  },
  {
   "cell_type": "markdown",
   "metadata": {},
   "source": [
    "### Let's do a simple analysis\n",
    "First calculate the ratio of the model flux to the PSF flux.  This is basically a measure of how much the source looks like a point source."
   ]
  },
  {
   "cell_type": "code",
   "execution_count": null,
   "metadata": {},
   "outputs": [],
   "source": [
    "x = sources.getPsfFlux()\n",
    "y = sources.getModelFlux()/sources.getPsfFlux()\n",
    "x = numpy.array(x)\n",
    "y = numpy.array(y)"
   ]
  },
  {
   "cell_type": "markdown",
   "metadata": {},
   "source": [
    "The stack provides a measurement for extendedness as well.  Separate stars from galaxies using this value."
   ]
  },
  {
   "cell_type": "code",
   "execution_count": null,
   "metadata": {},
   "outputs": [],
   "source": [
    "extend = sources.get('base_ClassificationExtendedness_value')\n",
    "stars = numpy.where(extend==0.0)[0]\n",
    "galaxies = numpy.where(extend>0.)[0]\n",
    "plt.scatter(x[stars], y[stars], alpha=0.3)\n",
    "plt.scatter(x[galaxies], y[galaxies], c='r', alpha=0.3)\n",
    "plt.xlim(10000, 10)\n",
    "plt.ylim(-1, 5)\n",
    "plt.show()"
   ]
  },
  {
   "cell_type": "markdown",
   "metadata": {},
   "source": [
    "Notice how all points above a certain threshold are red.  This simply shows that the default star/galaxy separator in this reduction is a cut in the model flux/PSF flux ratio."
   ]
  }
 ],
 "metadata": {
  "kernelspec": {
   "display_name": "LSST_Stack (Python 3)",
   "language": "python",
   "name": "lsst_stack"
  },
  "language_info": {
   "codemirror_mode": {
    "name": "ipython",
    "version": 3
   },
   "file_extension": ".py",
   "mimetype": "text/x-python",
   "name": "python",
   "nbconvert_exporter": "python",
   "pygments_lexer": "ipython3",
   "version": "3.6.2"
  }
 },
 "nbformat": 4,
 "nbformat_minor": 2
}
