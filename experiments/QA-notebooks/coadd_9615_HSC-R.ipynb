{
 "cells": [
  {
   "cell_type": "markdown",
   "metadata": {},
   "source": [
    "## Requirements\n",
    "\n",
    "This notebook needs some extra setup as it uses packages not included with the standard install, `lsst_distrib`.\n",
    "\n",
    "Make sure to set up the LSST software first.  This is necessary to make sure the next modules install relative to the kernel python version:\n",
    "\n",
    "```\n",
    "source /opt/lsst/software/stack/loadLSST.bash\n",
    "setup lsst_distrib\n",
    "```\n",
    "\n",
    "Next -- pip install dependencies:\n",
    "\n",
    "```\n",
    "pip install --user pyarrow\n",
    "pip install --user paramnb\n",
    "```\n",
    "\n",
    "Then install the LSST software:\n",
    "\n",
    "* `pipe_analysis`\n",
    "    ```\n",
    "    cd ~/repos\n",
    "    git clone https://github.com/lsst-dm/pipe_analysis\n",
    "    cd pipe_analysis\n",
    "    setup -k -r .\n",
    "    scons\n",
    "    ```\n",
    "\n",
    "\n",
    "* `qa_explorer`\n",
    "    ```\n",
    "    cd ~/repos\n",
    "    git clone https://github.com/lsst-dm/qa_explorer\n",
    "    cd qa_explorer\n",
    "    git checkout tickets/DM-14521\n",
    "    setup -k -r .\n",
    "    scons\n",
    "    ```\n",
    "    \n",
    "Add entries to `~/notebooks/.user_setups`:\n",
    "\n",
    "```\n",
    "echo 'setup -r ~/repos/pipe_analysis' >> ~/notebooks/.user_setups\n",
    "echo 'setup -r ~/repos/pipe_analysis' >> ~/notebooks/.user_setups\n",
    "```"
   ]
  },
  {
   "cell_type": "markdown",
   "metadata": {},
   "source": [
    "import holoviews as hv\n",
    "hv.notebook_extension('bokeh')"
   ]
  },
  {
   "cell_type": "code",
   "execution_count": null,
   "metadata": {},
   "outputs": [],
   "source": [
    "from lsst.daf.persistence import Butler\n",
    "butler = Butler('/datasets/hsc/repo/rerun/RC/w_2018_17/DM-14055/')"
   ]
  },
  {
   "cell_type": "code",
   "execution_count": null,
   "metadata": {},
   "outputs": [],
   "source": [
    "from lsst.qa.explorer.catalog import CoaddCatalog, VisitCatalog, MultiMatchedCatalog\n",
    "from lsst.qa.explorer.utils import get_visits\n",
    "\n",
    "tract = 9615\n",
    "filt = \"HSC-R\"\n",
    "dataId = {'tract':tract, 'filter':filt}\n",
    "catalog = CoaddCatalog(butler, dataId)"
   ]
  },
  {
   "cell_type": "code",
   "execution_count": null,
   "metadata": {},
   "outputs": [],
   "source": [
    "# Modify this cell to calculate whatever functors you want\n",
    "\n",
    "from lsst.qa.explorer.functors import MagDiff,Seeing,Column\n",
    "cmodel = MagDiff('modelfit_CModel', 'base_PsfFlux')\n",
    "gauss = MagDiff('base_GaussianFlux', 'base_PsfFlux')\n",
    "count = Column('base_InputCount_value')\n",
    "seeing = Seeing()\n",
    "\n",
    "funcs = {'cmodel':cmodel,'gauss':gauss,'count':count,'seeing':seeing,}"
   ]
  },
  {
   "cell_type": "code",
   "execution_count": null,
   "metadata": {},
   "outputs": [],
   "source": [
    "from lsst.qa.explorer.dataset import QADataset\n",
    "flags = ['calib_psfUsed',\n",
    "'qaBad_flag',\n",
    "'merge_measurement_i',\n",
    "'merge_measurement_r',\n",
    "'merge_measurement_z',\n",
    "'merge_measurement_y',\n",
    "'merge_measurement_g',\n",
    "'base_Footprint_nPix_flag',\n",
    "'base_PixelFlags_flag_inexact_psfCenter']\n",
    "\n",
    "data = QADataset(catalog, funcs, flags=flags)"
   ]
  },
  {
   "cell_type": "code",
   "execution_count": null,
   "metadata": {},
   "outputs": [],
   "source": [
    "# Calculate dataframe; see how long it takes.\n",
    "%time data.df.head()"
   ]
  },
  {
   "cell_type": "code",
   "execution_count": null,
   "metadata": {},
   "outputs": [],
   "source": [
    "from lsst.qa.explorer.plots import FilterStream, multi_scattersky\n",
    "filter_stream = FilterStream()\n",
    "multi_scattersky(data.ds.groupby('label'), filter_stream=filter_stream, width=900, height=300)"
   ]
  },
  {
   "cell_type": "code",
   "execution_count": null,
   "metadata": {},
   "outputs": [],
   "source": [
    "from lsst.qa.explorer.plots import FlagSetter\n",
    "import paramnb\n",
    "\n",
    "flag_setter = FlagSetter(filter_stream=filter_stream, flags=data.flags, bad_flags=data.flags)\n",
    "paramnb.Widgets(flag_setter, callback=flag_setter.event, push=False, on_init=True)"
   ]
  },
  {
   "cell_type": "code",
   "execution_count": null,
   "metadata": {},
   "outputs": [],
   "source": [
    "%%output max_frames=10000\n",
    "%%opts Points [width=500, height=500, tools=['hover'], colorbar=True] (cmap='coolwarm', size=4)\n",
    "\n",
    "# Change dimension to whichever you would like to explore\n",
    "dimension = 'cmodel'\n",
    "coadd_dmap = data.coadd_explore(dimension, filter_stream=filter_stream).relabel(dimension)\n",
    "tap = hv.streams.Tap(source=coadd_dmap, rename={'x':'ra', 'y':'dec'})\n",
    "\n",
    "coadd_dmap"
   ]
  },
  {
   "cell_type": "code",
   "execution_count": null,
   "metadata": {},
   "outputs": [],
   "source": [
    "import lsst.afw.display as ad"
   ]
  },
  {
   "cell_type": "code",
   "execution_count": null,
   "metadata": {},
   "outputs": [],
   "source": [
    "ad.setDefaultBackend(\"ginga\")\n",
    "\n",
    "from lsst.qa.explorer.display import CoaddDisplay\n",
    "coadd_display = CoaddDisplay(butler=butler, filt=filt, dims=(500,500))\n",
    "coadd_display.connect_tap(tap)\n",
    "coadd_display.embed()"
   ]
  },
  {
   "cell_type": "code",
   "execution_count": null,
   "metadata": {},
   "outputs": [],
   "source": [
    "%%opts RGB [width=400, height=400]\n",
    "\n",
    "from lsst.qa.explorer.plots import skyplot, skyplot_layout\n",
    "skyplots = [skyplot(data.ds.groupby('label'), vdim=d, filter_stream=filter_stream).relabel(d) for d in funcs]\n",
    "skyplot_layout(skyplots).cols(3)\n",
    "    "
   ]
  },
  {
   "cell_type": "code",
   "execution_count": null,
   "metadata": {},
   "outputs": [],
   "source": []
  }
 ],
 "metadata": {
  "kernelspec": {
   "display_name": "LSST",
   "language": "python",
   "name": "lsst"
  },
  "language_info": {
   "codemirror_mode": {
    "name": "ipython",
    "version": 3
   },
   "file_extension": ".py",
   "mimetype": "text/x-python",
   "name": "python",
   "nbconvert_exporter": "python",
   "pygments_lexer": "ipython3",
   "version": "3.6.2"
  }
 },
 "nbformat": 4,
 "nbformat_minor": 2
}
