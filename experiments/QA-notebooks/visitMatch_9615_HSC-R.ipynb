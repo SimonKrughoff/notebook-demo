{
 "cells": [
  {
   "cell_type": "code",
   "execution_count": null,
   "metadata": {},
   "outputs": [],
   "source": [
    "import holoviews as hv\n",
    "hv.notebook_extension('bokeh')"
   ]
  },
  {
   "cell_type": "code",
   "execution_count": null,
   "metadata": {},
   "outputs": [],
   "source": [
    "from lsst.daf.persistence import Butler\n",
    "butler = Butler('/project/shared/data/hsc/repo/rerun/RC/w_2018_17/DM-14055/')"
   ]
  },
  {
   "cell_type": "code",
   "execution_count": null,
   "metadata": {},
   "outputs": [],
   "source": [
    "from lsst.qa.explorer.catalog import CoaddCatalog, VisitCatalog, MultiMatchedCatalog\n",
    "from lsst.qa.explorer.utils import get_visits\n",
    "\n",
    "tract = 9615\n",
    "filt = \"HSC-R\"\n",
    "dataId = {'tract':tract, 'filter':filt}\n",
    "coaddCat = CoaddCatalog(butler, dataId)\n",
    "visitCats = [VisitCatalog(butler, {'tract': tract, 'filter':filt, 'visit':v}, name=v) for v in get_visits(butler, tract, filt)]\n",
    "catalog = MultiMatchedCatalog(coaddCat, visitCats, match_registry='QAmatchRegistry.h5')"
   ]
  },
  {
   "cell_type": "code",
   "execution_count": null,
   "metadata": {},
   "outputs": [],
   "source": [
    "# Modify this cell to calculate whatever functors you want\n",
    "\n",
    "from lsst.qa.explorer.functors import MagDiff,Seeing\n",
    "gauss = MagDiff('base_GaussianFlux', 'base_PsfFlux')\n",
    "seeing = Seeing()\n",
    "\n",
    "funcs = {'gauss':gauss,'seeing':seeing,}"
   ]
  },
  {
   "cell_type": "code",
   "execution_count": null,
   "metadata": {},
   "outputs": [],
   "source": [
    "from lsst.qa.explorer.dataset import QADataset\n",
    "flags = ['calib_psfUsed',\n",
    "'qaBad_flag',\n",
    "'merge_measurement_i',\n",
    "'merge_measurement_r',\n",
    "'merge_measurement_z',\n",
    "'merge_measurement_y',\n",
    "'merge_measurement_g',\n",
    "'base_Footprint_nPix_flag',\n",
    "'base_PixelFlags_flag_inexact_psfCenter']\n",
    "\n",
    "data = QADataset(catalog, funcs, flags=flags)"
   ]
  },
  {
   "cell_type": "code",
   "execution_count": null,
   "metadata": {},
   "outputs": [],
   "source": [
    "# Calculate dataframe; see how long it takes. Minutes...\n",
    "%time data.df.head()"
   ]
  },
  {
   "cell_type": "code",
   "execution_count": null,
   "metadata": {},
   "outputs": [],
   "source": [
    "from lsst.qa.explorer.plots import FilterStream, multi_scattersky\n",
    "filter_stream = FilterStream()\n",
    "multi_scattersky(data.ds, filter_stream=filter_stream, width=900, height=300)"
   ]
  },
  {
   "cell_type": "code",
   "execution_count": null,
   "metadata": {},
   "outputs": [],
   "source": [
    "from lsst.qa.explorer.plots import FlagSetter\n",
    "import parambokeh\n",
    "\n",
    "flag_setter = FlagSetter(filter_stream=filter_stream, flags=data.flags, bad_flags=data.flags)\n",
    "parambokeh.Widgets(flag_setter, callback=flag_setter.event, push=False, on_init=True)"
   ]
  },
  {
   "cell_type": "code",
   "execution_count": null,
   "metadata": {},
   "outputs": [],
   "source": [
    "%%output max_frames=10000\n",
    "%%opts Points [width=500, height=500, tools=['hover'], colorbar=True] (cmap='coolwarm', size=4)\n",
    "\n",
    "# Change dimension to whichever you would like to explore\n",
    "dimension = 'gauss'\n",
    "visit_dmap = data.visit_explore(dimension, filter_stream=filter_stream).relabel(dimension)\n",
    "tap = hv.streams.Tap(source=visit_dmap, rename={'x':'ra', 'y':'dec'})\n",
    "\n",
    "visit_dmap"
   ]
  },
  {
   "cell_type": "code",
   "execution_count": null,
   "metadata": {},
   "outputs": [],
   "source": [
    "import lsst.afw.display\n",
    "lsst.afw.display.setDefaultBackend(\"ginga\")\n",
    "\n",
    "from lsst.qa.explorer.display import VisitDisplay\n",
    "visit_display = VisitDisplay(butler, filt, tract, dims=(500,500))\n",
    "visit_display.connect_tap(tap)\n",
    "visit_display.embed()"
   ]
  }
 ],
 "metadata": {
  "kernelspec": {
   "display_name": "LSST",
   "language": "python",
   "name": "lsst"
  },
  "language_info": {
   "codemirror_mode": {
    "name": "ipython",
    "version": 3
   },
   "file_extension": ".py",
   "mimetype": "text/x-python",
   "name": "python",
   "nbconvert_exporter": "python",
   "pygments_lexer": "ipython3",
   "version": "3.6.2"
  }
 },
 "nbformat": 4,
 "nbformat_minor": 2
}
