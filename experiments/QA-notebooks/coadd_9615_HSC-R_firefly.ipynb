{
 "cells": [
  {
   "cell_type": "code",
   "execution_count": null,
   "metadata": {},
   "outputs": [],
   "source": [
    "import holoviews as hv\n",
    "hv.notebook_extension('bokeh')"
   ]
  },
  {
   "cell_type": "code",
   "execution_count": null,
   "metadata": {},
   "outputs": [],
   "source": [
    "from lsst.daf.persistence import Butler\n",
    "butler = Butler('/datasets/hsc/repo/rerun/RC/w_2018_17/DM-14055/')"
   ]
  },
  {
   "cell_type": "code",
   "execution_count": null,
   "metadata": {},
   "outputs": [],
   "source": [
    "from lsst.qa.explorer.catalog import CoaddCatalog, VisitCatalog, MultiMatchedCatalog\n",
    "from lsst.qa.explorer.utils import get_visits\n",
    "\n",
    "tract = 9615\n",
    "filt = \"HSC-R\"\n",
    "dataId = {'tract':tract, 'filter':filt}\n",
    "catalog = CoaddCatalog(butler, dataId)"
   ]
  },
  {
   "cell_type": "code",
   "execution_count": null,
   "metadata": {},
   "outputs": [],
   "source": [
    "# Modify this cell to calculate whatever functors you want\n",
    "\n",
    "from lsst.qa.explorer.functors import MagDiff,Seeing,Column\n",
    "cmodel = MagDiff('modelfit_CModel', 'base_PsfFlux')\n",
    "gauss = MagDiff('base_GaussianFlux', 'base_PsfFlux')\n",
    "count = Column('base_InputCount_value')\n",
    "seeing = Seeing()\n",
    "\n",
    "funcs = {'cmodel':cmodel,'gauss':gauss,'count':count,'seeing':seeing,}"
   ]
  },
  {
   "cell_type": "code",
   "execution_count": null,
   "metadata": {},
   "outputs": [],
   "source": [
    "from lsst.qa.explorer.dataset import QADataset\n",
    "flags = ['calib_psfUsed',\n",
    "'qaBad_flag',\n",
    "'merge_measurement_i',\n",
    "'merge_measurement_r',\n",
    "'merge_measurement_z',\n",
    "'merge_measurement_y',\n",
    "'merge_measurement_g',\n",
    "'base_Footprint_nPix_flag',\n",
    "'base_PixelFlags_flag_inexact_psfCenter']\n",
    "\n",
    "data = QADataset(catalog, funcs, flags=flags)"
   ]
  },
  {
   "cell_type": "code",
   "execution_count": null,
   "metadata": {},
   "outputs": [],
   "source": [
    "# Calculate dataframe; see how long it takes.\n",
    "%time data.df.head()"
   ]
  },
  {
   "cell_type": "code",
   "execution_count": null,
   "metadata": {},
   "outputs": [],
   "source": [
    "from lsst.qa.explorer.plots import FilterStream, multi_scattersky\n",
    "filter_stream = FilterStream()\n",
    "multi_scattersky(data.ds.groupby('label'), filter_stream=filter_stream, width=900, height=300)"
   ]
  },
  {
   "cell_type": "code",
   "execution_count": null,
   "metadata": {},
   "outputs": [],
   "source": [
    "from lsst.qa.explorer.plots import FlagSetter\n",
    "import paramnb\n",
    "\n",
    "flag_setter = FlagSetter(filter_stream=filter_stream, flags=data.flags, bad_flags=data.flags)\n",
    "paramnb.Widgets(flag_setter, callback=flag_setter.event, push=False, on_init=True)"
   ]
  },
  {
   "cell_type": "code",
   "execution_count": null,
   "metadata": {},
   "outputs": [],
   "source": [
    "%%output max_frames=10000\n",
    "%%opts Points [width=500, height=500, tools=['hover'], colorbar=True] (cmap='coolwarm', size=4)\n",
    "\n",
    "# Change dimension to whichever you would like to explore\n",
    "dimension = 'cmodel'\n",
    "coadd_dmap = data.coadd_explore(dimension, filter_stream=filter_stream).relabel(dimension)\n",
    "tap = hv.streams.Tap(source=coadd_dmap, rename={'x':'ra', 'y':'dec'})\n",
    "\n",
    "coadd_dmap"
   ]
  },
  {
   "cell_type": "code",
   "execution_count": null,
   "metadata": {},
   "outputs": [],
   "source": [
    "import lsst.afw.display as ad"
   ]
  },
  {
   "cell_type": "code",
   "execution_count": null,
   "metadata": {},
   "outputs": [],
   "source": [
    "import os\n",
    "ad.setDefaultBackend(\"firefly\")\n",
    "my_channel = '{}_test_channel'.format(os.environ['USER'])\n",
    "server = 'https://lsst-lspdev.ncsa.illinois.edu/firefly'\n",
    "ff='{}/firefly/slate.html?__wsch={}'.format(server, my_channel)"
   ]
  },
  {
   "cell_type": "code",
   "execution_count": null,
   "metadata": {},
   "outputs": [],
   "source": [
    "from lsst.qa.explorer.display import CoaddDisplay\n",
    "coadd_display = CoaddDisplay(butler=butler, filt=filt, url=server, name=my_channel)\n",
    "coadd_display.connect_tap(tap)"
   ]
  },
  {
   "cell_type": "code",
   "execution_count": null,
   "metadata": {},
   "outputs": [],
   "source": [
    "%%opts RGB [width=400, height=400]\n",
    "\n",
    "from lsst.qa.explorer.plots import skyplot, skyplot_layout\n",
    "skyplots = [skyplot(data.ds.groupby('label'), vdim=d, filter_stream=filter_stream).relabel(d) for d in funcs]\n",
    "skyplot_layout(skyplots).cols(3)\n",
    "    "
   ]
  }
 ],
 "metadata": {
  "kernelspec": {
   "display_name": "LSST",
   "language": "python",
   "name": "lsst"
  },
  "language_info": {
   "codemirror_mode": {
    "name": "ipython",
    "version": 3
   },
   "file_extension": ".py",
   "mimetype": "text/x-python",
   "name": "python",
   "nbconvert_exporter": "python",
   "pygments_lexer": "ipython3",
   "version": "3.6.2"
  }
 },
 "nbformat": 4,
 "nbformat_minor": 2
}
