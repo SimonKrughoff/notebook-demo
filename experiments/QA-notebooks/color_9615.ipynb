{
 "cells": [
  {
   "cell_type": "code",
   "execution_count": null,
   "metadata": {},
   "outputs": [],
   "source": [
    "import holoviews as hv\n",
    "hv.notebook_extension('bokeh')"
   ]
  },
  {
   "cell_type": "code",
   "execution_count": null,
   "metadata": {},
   "outputs": [],
   "source": [
    "from lsst.daf.persistence import Butler\n",
    "butler = Butler('/project/shared/data/hsc/repo/rerun/RC/w_2018_17/DM-14055/')"
   ]
  },
  {
   "cell_type": "code",
   "execution_count": null,
   "metadata": {},
   "outputs": [],
   "source": [
    "from lsst.qa.explorer.catalog import CoaddCatalog, MultiBandCatalog\n",
    "\n",
    "tract = 9615\n",
    "filts = ['HSC-G', 'HSC-R', 'HSC-I', 'HSC-Z', 'HSC-Y']\n",
    "short_filts = 'GRIZY'\n",
    "reference_filt = 'HSC-I'\n",
    "\n",
    "catalog = MultiBandCatalog({filt: CoaddCatalog(butler, {'tract':tract, 'filter':filt}, name=filt) for filt in filts}, \n",
    "                           short_filters=short_filts, reference_filt=reference_filt)"
   ]
  },
  {
   "cell_type": "code",
   "execution_count": null,
   "metadata": {},
   "outputs": [],
   "source": [
    "# Modify this cell to calculate whatever functors you want\n",
    "\n",
    "from lsst.qa.explorer.functors import Mag\n",
    "psfmag = Mag('base_PsfFlux')\n",
    "cmodel = Mag('modelfit_CModel')\n",
    "kron = Mag('ext_photometryKron_KronFlux')\n",
    "\n",
    "funcs = {'psfmag':psfmag,'cmodel':cmodel,'kron':kron,}"
   ]
  },
  {
   "cell_type": "code",
   "execution_count": null,
   "metadata": {},
   "outputs": [],
   "source": [
    "from lsst.qa.explorer.dataset import QADataset\n",
    "flags = ['calib_psfUsed',\n",
    "'qaBad_flag',\n",
    "'base_PixelFlags_flag_inexact_psfCenter']\n",
    "\n",
    "data = QADataset(catalog, funcs, flags=flags)"
   ]
  },
  {
   "cell_type": "code",
   "execution_count": null,
   "metadata": {},
   "outputs": [],
   "source": [
    "# Calculate dataframe; see how long it takes.\n",
    "%time data.df.head()"
   ]
  },
  {
   "cell_type": "code",
   "execution_count": null,
   "metadata": {},
   "outputs": [],
   "source": [
    "data.color_explore()"
   ]
  },
  {
   "cell_type": "code",
   "execution_count": null,
   "metadata": {},
   "outputs": [],
   "source": [
    "%%opts Points [width=600, height=600]\n",
    "data.color_fit_explore()"
   ]
  }
 ],
 "metadata": {},
 "nbformat": 4,
 "nbformat_minor": 2
}
