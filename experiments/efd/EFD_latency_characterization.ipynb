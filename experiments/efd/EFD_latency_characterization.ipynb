{
 "cells": [
  {
   "cell_type": "markdown",
   "metadata": {},
   "source": [
    "# EFD latency characterization\n",
    "\n",
    "This notebook shows how to get data from the InfluxDB API to characterize the total latency for a message from the time it is sent by SAL to the time it is written to InfluxDB."
   ]
  },
  {
   "cell_type": "code",
   "execution_count": 5,
   "metadata": {},
   "outputs": [],
   "source": [
    "%%capture packages\n",
    "import sys\n",
    "!{sys.executable} -m pip install matplotlib\n",
    "!{sys.executable} -m pip install pandas\n",
    "!{sys.executable} -m pip install requests"
   ]
  },
  {
   "cell_type": "code",
   "execution_count": 6,
   "metadata": {},
   "outputs": [],
   "source": [
    "import requests\n",
    "import matplotlib.pyplot as plt\n",
    "import pandas as pd"
   ]
  },
  {
   "cell_type": "markdown",
   "metadata": {},
   "source": [
    "## InfluxDB URL and database to read from"
   ]
  },
  {
   "cell_type": "code",
   "execution_count": 7,
   "metadata": {},
   "outputs": [],
   "source": [
    "INFLUXDB_API_URL = \"https://influxdb-summit-efd.lsst.codes\"\n",
    "INFLUXDB_DATABASE = \"efd\""
   ]
  },
  {
   "cell_type": "code",
   "execution_count": 9,
   "metadata": {},
   "outputs": [
    {
     "name": "stdout",
     "output_type": "stream",
     "text": [
      "Password for user `saluser`: ········\n"
     ]
    }
   ],
   "source": [
    "import getpass\n",
    "USERNAME = \"saluser\"\n",
    "PASSWORD = getpass.getpass(prompt='Password for user `{}`: '.format(USERNAME))"
   ]
  },
  {
   "cell_type": "markdown",
   "metadata": {},
   "source": [
    "## Retrieving timestamps for a given topic\n",
    "The following timestamps are available (the order reflects the actual message flow through the system) \n",
    "\n",
    "- **private_sndStamp**: Timestamp in seconds added by SAL when the message was created\n",
    "- **private_kafkaStamp**: Timestamp in seconds added by the SAL Kafka Producer right before it is sent to the EFD\n",
    "- **time**: Timestamp in millisecons when the message is written to InfluxDB.\n"
   ]
  },
  {
   "cell_type": "code",
   "execution_count": 40,
   "metadata": {},
   "outputs": [],
   "source": [
    "def get_timestamps(topic, past='1h'):\n",
    "    \n",
    "    query = 'SELECT \"private_sndStamp\" FROM \"{}\\\".\"autogen\".\"{}\" where time > now()-{}'\n",
    "    params={'q': query.format(INFLUXDB_DATABASE, topic, past), 'epoch': 'ms', 'chunked': '200000', 'u': USERNAME, 'p': PASSWORD}\n",
    "    \n",
    "    r = requests.post(url=INFLUXDB_API_URL + \"/query\", params=params)\n",
    "    \n",
    "    return r.json()"
   ]
  },
  {
   "cell_type": "code",
   "execution_count": 41,
   "metadata": {},
   "outputs": [
    {
     "data": {
      "text/html": [
       "<div>\n",
       "<style scoped>\n",
       "    .dataframe tbody tr th:only-of-type {\n",
       "        vertical-align: middle;\n",
       "    }\n",
       "\n",
       "    .dataframe tbody tr th {\n",
       "        vertical-align: top;\n",
       "    }\n",
       "\n",
       "    .dataframe thead th {\n",
       "        text-align: right;\n",
       "    }\n",
       "</style>\n",
       "<table border=\"1\" class=\"dataframe\">\n",
       "  <thead>\n",
       "    <tr style=\"text-align: right;\">\n",
       "      <th></th>\n",
       "      <th>time</th>\n",
       "      <th>private_sndStamp</th>\n",
       "    </tr>\n",
       "  </thead>\n",
       "  <tbody>\n",
       "    <tr>\n",
       "      <th>0</th>\n",
       "      <td>1582734289611</td>\n",
       "      <td>1.582734e+09</td>\n",
       "    </tr>\n",
       "    <tr>\n",
       "      <th>1</th>\n",
       "      <td>1582734289709</td>\n",
       "      <td>1.582734e+09</td>\n",
       "    </tr>\n",
       "    <tr>\n",
       "      <th>2</th>\n",
       "      <td>1582734289810</td>\n",
       "      <td>1.582734e+09</td>\n",
       "    </tr>\n",
       "    <tr>\n",
       "      <th>3</th>\n",
       "      <td>1582734289910</td>\n",
       "      <td>1.582734e+09</td>\n",
       "    </tr>\n",
       "    <tr>\n",
       "      <th>4</th>\n",
       "      <td>1582734290009</td>\n",
       "      <td>1.582734e+09</td>\n",
       "    </tr>\n",
       "  </tbody>\n",
       "</table>\n",
       "</div>"
      ],
      "text/plain": [
       "            time  private_sndStamp\n",
       "0  1582734289611      1.582734e+09\n",
       "1  1582734289709      1.582734e+09\n",
       "2  1582734289810      1.582734e+09\n",
       "3  1582734289910      1.582734e+09\n",
       "4  1582734290009      1.582734e+09"
      ]
     },
     "execution_count": 41,
     "metadata": {},
     "output_type": "execute_result"
    }
   ],
   "source": [
    "data = get_timestamps(\"lsst.sal.MTM1M3.forceActuatorData\")['results'][0]['series'][0]\n",
    "df = pd.DataFrame.from_records(data['values'], columns=data['columns'])\n",
    "df.head()"
   ]
  },
  {
   "cell_type": "markdown",
   "metadata": {},
   "source": [
    "## Latency and time in seconds"
   ]
  },
  {
   "cell_type": "code",
   "execution_count": 45,
   "metadata": {},
   "outputs": [],
   "source": [
    "df['latency'] = (df['time'] - df['private_sndStamp']*1000)/1000\n",
    "df['time_seconds'] = (df['time']-df['time'][0])/1000"
   ]
  },
  {
   "cell_type": "markdown",
   "metadata": {},
   "source": [
    "## Latency characterization"
   ]
  },
  {
   "cell_type": "code",
   "execution_count": 46,
   "metadata": {},
   "outputs": [],
   "source": [
    "median = df.latency.median()\n",
    "quantile99 = df.latency.quantile(.99)"
   ]
  },
  {
   "cell_type": "code",
   "execution_count": 47,
   "metadata": {
    "scrolled": true
   },
   "outputs": [
    {
     "data": {
      "text/plain": [
       "Text(50, 21.30944091796875, 'Median=0.0232s 99% percentile=13.12s')"
      ]
     },
     "execution_count": 47,
     "metadata": {},
     "output_type": "execute_result"
    },
    {
     "data": {
      "image/png": "[encoded data removed]",
      "text/plain": [
       "<Figure size 1080x216 with 1 Axes>"
      ]
     },
     "metadata": {
      "needs_background": "light"
     },
     "output_type": "display_data"
    }
   ],
   "source": [
    "p = df.plot(x='time_seconds', y='latency', figsize=(15,3))\n",
    "p.set_xlabel(\"Time (s)\")\n",
    "p.set_ylabel(\"Latency (s)\")\n",
    "p.text(50,df.latency.max()-0.75,\"Median={:.4f}s 99% percentile={:.2f}s\".format(median, quantile99))"
   ]
  }
 ],
 "metadata": {
  "kernelspec": {
   "display_name": "Python 3",
   "language": "python",
   "name": "python3"
  }
 },
 "nbformat": 4,
 "nbformat_minor": 2
}
