{
 "cells": [
  {
   "cell_type": "markdown",
   "metadata": {},
   "source": [
    "## Accessing DM-EFD data\n"
   ]
  },
  {
   "cell_type": "markdown",
   "metadata": {},
   "source": [
    "In this notebook we demonstrate how to extract data from the DM-EFD using [aioinflux](https://aioinflux.readthedocs.io/en/stable/index.html), a Python client for InfluxDB, and proceed with data analysis using Pandas dataframes. \n",
    "\n",
    "This is complementaty to the [Chronograf](https://test-chronograf-efd.lsst.codes) interface which we use for time-series visualization.\n",
    "\n",
    "In addition to `aioinflux`, you'll need to install `pandas`, `numpy` and `matplotlib` to run this notebook."
   ]
  },
  {
   "cell_type": "code",
   "execution_count": null,
   "metadata": {
    "scrolled": true
   },
   "outputs": [],
   "source": [
    "import matplotlib\n",
    "%matplotlib widget\n",
    "from matplotlib import pylab as plt\n",
    "import pandas as pd\n",
    "import asyncio\n",
    "\n",
    "from bokeh.plotting import figure, output_notebook, show\n",
    "from bokeh.models import LinearAxis, Range1d\n",
    "output_notebook()"
   ]
  },
  {
   "cell_type": "markdown",
   "metadata": {},
   "source": [
    "We'll access the DM-EFD instance deployed at the AuxTel lab in Tucson. You need to be on site or connected to the NOAO VPN. \n",
    "\n",
    "If you are familiar with the AuxTel lab environment, you might be able to authenticate using the generic `saluser`. Ping me at Slack (`@afausti`) if you have any problem."
   ]
  },
  {
   "cell_type": "code",
   "execution_count": null,
   "metadata": {},
   "outputs": [],
   "source": [
    "import jupyterlabutils.notebook as jn"
   ]
  },
  {
   "cell_type": "code",
   "execution_count": null,
   "metadata": {},
   "outputs": [],
   "source": [
    "efd_client = jn.EfdClient('summit_efd')"
   ]
  },
  {
   "cell_type": "code",
   "execution_count": null,
   "metadata": {},
   "outputs": [],
   "source": [
    "topics = await efd_client.get_topics()"
   ]
  },
  {
   "cell_type": "code",
   "execution_count": null,
   "metadata": {},
   "outputs": [],
   "source": [
    "fields = await efd_client.get_fields(topics[0])"
   ]
  },
  {
   "cell_type": "code",
   "execution_count": null,
   "metadata": {},
   "outputs": [],
   "source": [
    "# Must be run on the Lab EFD\n",
    "result = await efd_client.select_time_series('lsst.sal.ATCamera.wreb', '* ',\n",
    "                                       pd.Timestamp('2019-09-08T01:41:00Z'), pd.Timedelta('3m'))"
   ]
  },
  {
   "cell_type": "code",
   "execution_count": null,
   "metadata": {},
   "outputs": [],
   "source": [
    "start = pd.Timestamp('2019-11-26T15:48:00Z')\n",
    "end = pd.Timedelta('9.5m')"
   ]
  },
  {
   "cell_type": "code",
   "execution_count": null,
   "metadata": {},
   "outputs": [],
   "source": [
    "measured_azel = await efd_client.select_packed_time_series('lsst.sal.ATMCS.mount_AzEl_Encoders', ['azimuthCalculatedAngle', 'elevationCalculatedAngle'], start, end)\n",
    "measured_azel_vel = await efd_client.select_packed_time_series('lsst.sal.ATMCS.measuredMotorVelocity', ['azimuthMotor1Velocity', 'azimuthMotor2Velocity', 'elevationMotorVelocity'], start, end)\n",
    "commanded_azel = await efd_client.select_packed_time_series('lsst.sal.ATMCS.trajectory', ['azimuth', 'azimuthVelocity', 'elevation', 'elevationVelocity'], start, end)"
   ]
  },
  {
   "cell_type": "code",
   "execution_count": null,
   "metadata": {},
   "outputs": [],
   "source": [
    "p = figure(x_axis_type='datetime', plot_width=800, plot_height=400)\n",
    "p.yaxis.axis_label = \"Azimuth (degrees)\"\n",
    "p.xaxis.axis_label = \"Time\"\n",
    "p.line(x=commanded_azel.index.values, y=commanded_azel['azimuth'], color='black', line_width=2, legend_label='Commanded Az')\n",
    "p.line(x=measured_azel.index.values, y=measured_azel['azimuthCalculatedAngle'], color='lightblue', line_width=2, legend_label='Computed Az')\n",
    "p.extra_y_ranges = {'Velocity': Range1d(start=-2.5, end=2.5)}\n",
    "p.add_layout(LinearAxis(y_range_name='Velocity', axis_label='Velocity'), 'right')\n",
    "p.line(x=measured_azel_vel.index.values, y=measured_azel_vel['azimuthMotor1Velocity'], color='red', alpha=0.5, y_range_name='Velocity', legend_label='Measured Az Velocity Motor 1')\n",
    "p.line(x=measured_azel_vel.index.values, y=measured_azel_vel['azimuthMotor2Velocity'], color='blue', alpha=0.5, y_range_name='Velocity', legend_label='Measured Az Velocity Motor 2')\n",
    "p.line(x=commanded_azel.index.values, y=commanded_azel['azimuthVelocity'], color='black', alpha=0.5, y_range_name='Velocity', legend_label='Commanded Az Velocity')\n",
    "p.legend.location = 'bottom_left'\n",
    "p.legend.click_policy = 'hide'\n",
    "show(p)"
   ]
  },
  {
   "cell_type": "code",
   "execution_count": null,
   "metadata": {},
   "outputs": [],
   "source": [
    "interp = jn.resample(measured_azel, commanded_azel)\n",
    "ratio = interp['elevationCalculatedAngle']/interp['elevation']"
   ]
  },
  {
   "cell_type": "code",
   "execution_count": null,
   "metadata": {},
   "outputs": [],
   "source": [
    "p = figure(x_axis_type='datetime', y_range=(0.99999, 1.00001), plot_width=800, plot_height=400)\n",
    "p.yaxis.axis_label = \"Ratio of measured to commanded elevation\"\n",
    "p.xaxis.axis_label = \"Time\"\n",
    "p.extra_y_ranges = {'Velocity': Range1d(start=-0.1, end=0.1)}\n",
    "p.add_layout(LinearAxis(y_range_name='Velocity', axis_label='Velocity'), 'right')\n",
    "p.line(x=measured_azel_vel.index.values, y=measured_azel_vel['elevationMotorVelocity'], color='red', alpha=0.5, y_range_name='Velocity', legend_label='Measured El Velocity Motor')\n",
    "p.line(x=commanded_azel.index.values, y=commanded_azel['elevationVelocity'], color='black', alpha=0.5, y_range_name='Velocity', legend_label='Commanded El Velocity')\n",
    "p.line(x=ratio.index.values, y=ratio.values, color='black', line_width=2, legend_label='ratio', alpha=0.3)\n",
    "p.legend.location = 'bottom_left'\n",
    "p.legend.click_policy = 'hide'\n",
    "show(p)"
   ]
  }
 ],
 "metadata": {
  "kernelspec": {
   "display_name": "LSST",
   "language": "python",
   "name": "lsst"
  },
  "language_info": {
   "codemirror_mode": {
    "name": "ipython",
    "version": 3
   },
   "file_extension": ".py",
   "mimetype": "text/x-python",
   "name": "python",
   "nbconvert_exporter": "python",
   "pygments_lexer": "ipython3",
   "version": "3.7.2"
  }
 },
 "nbformat": 4,
 "nbformat_minor": 4
}
