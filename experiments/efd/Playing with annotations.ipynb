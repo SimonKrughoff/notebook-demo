{
 "cells": [
  {
   "cell_type": "markdown",
   "metadata": {},
   "source": [
    "## Annotations for fun."
   ]
  },
  {
   "cell_type": "markdown",
   "metadata": {},
   "source": [
    "In this notebook we demonstrate how to extract annotations from the DM-EFD using [aioinflux](https://aioinflux.readthedocs.io/en/stable/index.html), a Python client for InfluxDB.\n",
    "\n",
    "This is complementaty to the [Chronograf](https://test-chronograf-efd.lsst.codes) interface which we use for time-series visualization.\n",
    "\n",
    "In addition to `aioinflux`, you'll need to install `pandas` to run this notebook."
   ]
  },
  {
   "cell_type": "code",
   "execution_count": null,
   "metadata": {},
   "outputs": [],
   "source": [
    "import aioinflux\n",
    "import getpass\n",
    "import pandas as pd"
   ]
  },
  {
   "cell_type": "code",
   "execution_count": null,
   "metadata": {},
   "outputs": [],
   "source": [
    "import ipywidgets as widgets\n",
    "from IPython.display import display"
   ]
  },
  {
   "cell_type": "markdown",
   "metadata": {},
   "source": [
    "We'll access the DM-EFD instance deployed at the AuxTel lab in Tucson. You need to be on site or connected to the NOAO VPN. \n",
    "\n",
    "If you are familiar with the AuxTel lab environment, you might be able to authenticate using the generic `saluser`. Ping me at Slack (`@afausti`) if you have any problem."
   ]
  },
  {
   "cell_type": "code",
   "execution_count": null,
   "metadata": {},
   "outputs": [],
   "source": [
    "username = \"saluser\"\n",
    "password = getpass.getpass(f\"Password for {username}:\")"
   ]
  },
  {
   "cell_type": "markdown",
   "metadata": {},
   "source": [
    "The following configures the `aioinflux` Python client to connect to the DM-EFD InfluxDB instance. "
   ]
  },
  {
   "cell_type": "code",
   "execution_count": null,
   "metadata": {},
   "outputs": [],
   "source": [
    "client = aioinflux.InfluxDBClient(host='test-influxdb-efd.lsst.codes', \n",
    "                                  port='443', \n",
    "                                  ssl=True, \n",
    "                                  username=username, \n",
    "                                  password=password,\n",
    "                                  db='efd')"
   ]
  },
  {
   "cell_type": "markdown",
   "metadata": {},
   "source": [
    "We can configure the output to be a Pandas dataframe, which is very convenient for data analysis."
   ]
  },
  {
   "cell_type": "code",
   "execution_count": null,
   "metadata": {},
   "outputs": [],
   "source": [
    "client.output = 'dataframe'"
   ]
  },
  {
   "cell_type": "markdown",
   "metadata": {},
   "source": [
    "## Listing tags of annotations\n",
    "Topics are mapped to [InfluxDB measurements](https://docs.influxdata.com/influxdb/v1.7/concepts). The following query simply lists all tags on annotations in the `chronograf` database:"
   ]
  },
  {
   "cell_type": "code",
   "execution_count": null,
   "metadata": {},
   "outputs": [],
   "source": [
    "tag_names = await client.query('SHOW TAG KEYS ON \"chronograf\" FROM \"annotations\"')\n",
    "tag_names"
   ]
  },
  {
   "cell_type": "markdown",
   "metadata": {},
   "source": [
    "Now get all the values for the specific tag `Observer`."
   ]
  },
  {
   "cell_type": "code",
   "execution_count": null,
   "metadata": {},
   "outputs": [],
   "source": [
    "tag_values = await client.query('SHOW TAG VALUES ON \"chronograf\" from \"annotations\" WITH KEY = \"Observer\"')\n",
    "w = widgets.Dropdown(\n",
    "    options=tag_values['value'],\n",
    "    description='Number:',\n",
    "    disabled=False,\n",
    ")\n",
    "display(w)"
   ]
  },
  {
   "cell_type": "markdown",
   "metadata": {},
   "source": [
    "## Querying annotations"
   ]
  },
  {
   "cell_type": "markdown",
   "metadata": {},
   "source": [
    "In Chronograf, you can annotate the time-series to mark interesting events or features in the data. These annotations are saved in the `chronograf` database and can also be queried."
   ]
  },
  {
   "cell_type": "code",
   "execution_count": null,
   "metadata": {},
   "outputs": [],
   "source": [
    "df = await client.query('SELECT \"Observer\", \"start_time\", \"modified_time_ns\", \"text\", \"id\" FROM \"chronograf\".\"autogen\".\"annotations\" WHERE \"deleted\"=false')"
   ]
  },
  {
   "cell_type": "markdown",
   "metadata": {},
   "source": [
    "This goes through all the annotations and select those associated with the value of the dropdown box above."
   ]
  },
  {
   "cell_type": "code",
   "execution_count": null,
   "metadata": {},
   "outputs": [],
   "source": [
    "events = {}\n",
    "for i, r in df.iterrows():\n",
    "    if r['Observer'] == w.value:\n",
    "        if i in events:\n",
    "            events[i].append(r)\n",
    "        else:\n",
    "            events[i] = [r,]"
   ]
  },
  {
   "cell_type": "markdown",
   "metadata": {},
   "source": [
    "Annotations can be modified many times.  Go through all the annotations and print out the text of the most recent modification for each annotation."
   ]
  },
  {
   "cell_type": "code",
   "execution_count": null,
   "metadata": {},
   "outputs": [],
   "source": [
    "tz = \"US/Pacific\"\n",
    "\n",
    "print(f\"Events reported by observer: {w.value}\")\n",
    "for i in events:\n",
    "    t = 0\n",
    "    for r in events[i]:\n",
    "        if r['modified_time_ns'] > t:\n",
    "            r_to_report = r\n",
    "            t = r['modified_time_ns']\n",
    "    start_time = pd.Timestamp(r_to_report['start_time'], tz='GMT')\n",
    "    if i == start_time:  # should use proper date times for comparison\n",
    "        print(f\"At {i.astimezone(tz)} {r_to_report['Observer']} reported that \\\"{r_to_report['text']}\\\" happened\")\n",
    "    else:\n",
    "        print(f\"From {start_time.astimezone(tz)} to {i.astimezone(tz)} {r_to_report['Observer']} reported that \\\"{r_to_report['text']}\\\" happened\")\n"
   ]
  }
 ],
 "metadata": {
  "kernelspec": {
   "display_name": "Python 3",
   "language": "python",
   "name": "python3"
  },
  "language_info": {
   "codemirror_mode": {
    "name": "ipython",
    "version": 3
   },
   "file_extension": ".py",
   "mimetype": "text/x-python",
   "name": "python",
   "nbconvert_exporter": "python",
   "pygments_lexer": "ipython3",
   "version": "3.7.2"
  }
 },
 "nbformat": 4,
 "nbformat_minor": 2
}
