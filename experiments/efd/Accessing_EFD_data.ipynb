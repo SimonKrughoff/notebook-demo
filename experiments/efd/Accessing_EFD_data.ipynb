{
 "cells": [
  {
   "cell_type": "markdown",
   "metadata": {},
   "source": [
    "## Accessing EFD data\n"
   ]
  },
  {
   "cell_type": "markdown",
   "metadata": {},
   "source": [
    "In this notebook we demonstrate how to extract data from the EFD using [aioinflux](https://aioinflux.readthedocs.io/en/stable/index.html), a Python client for InfluxDB, and proceed with data analysis using Pandas dataframes. \n",
    "\n",
    "This is complementaty to the [Chronograf](https://test-chronograf-efd.lsst.codes) interface which we use for time-series visualization.\n",
    "\n",
    "In addition to `aioinflux`, you'll need to install `pandas`, `numpy` and `matplotlib` to run this notebook."
   ]
  },
  {
   "cell_type": "code",
   "execution_count": null,
   "metadata": {},
   "outputs": [],
   "source": [
    "import aioinflux\n",
    "import getpass"
   ]
  },
  {
   "cell_type": "markdown",
   "metadata": {},
   "source": [
    "We'll access the EFD instance deployed at the AuxTel lab in Tucson. You need to be on site or connected to the NOAO VPN. \n",
    "\n",
    "If you are familiar with the AuxTel lab environment, you might be able to authenticate using the generic `saluser`. Ping me at Slack (`@afausti`) if you have any problem."
   ]
  },
  {
   "cell_type": "code",
   "execution_count": null,
   "metadata": {},
   "outputs": [],
   "source": [
    "username = \"saluser\"\n",
    "password = getpass.getpass(f\"Password for {username}:\")"
   ]
  },
  {
   "cell_type": "markdown",
   "metadata": {},
   "source": [
    "The following configures the `aioinflux` Python client to connect to the EFD InfluxDB instance. "
   ]
  },
  {
   "cell_type": "code",
   "execution_count": null,
   "metadata": {},
   "outputs": [],
   "source": [
    "client = aioinflux.InfluxDBClient(host='test-influxdb-efd.lsst.codes', \n",
    "                                  port='443', \n",
    "                                  ssl=True, \n",
    "                                  username=username, \n",
    "                                  password=password,\n",
    "                                  db='efd')"
   ]
  },
  {
   "cell_type": "markdown",
   "metadata": {},
   "source": [
    "We can configure the output to be a Pandas dataframe, which is very convenient for data analysis."
   ]
  },
  {
   "cell_type": "code",
   "execution_count": null,
   "metadata": {},
   "outputs": [],
   "source": [
    "client.output = 'dataframe'"
   ]
  },
  {
   "cell_type": "markdown",
   "metadata": {},
   "source": [
    "## Listing topics\n",
    "Topics are mapped to [InfluxDB measurements](https://docs.influxdata.com/influxdb/v1.7/concepts/key_concepts/#measurement). The following query simply lists all topics in the InfluxDB `efd` database:"
   ]
  },
  {
   "cell_type": "code",
   "execution_count": null,
   "metadata": {},
   "outputs": [],
   "source": [
    "topics = await client.query('SHOW MEASUREMENTS')\n",
    "topics"
   ]
  },
  {
   "cell_type": "markdown",
   "metadata": {},
   "source": [
    "## Querying topic data\n",
    "[InfluxQL](https://docs.influxdata.com/influxdb/v1.7/query_language/spec/), the influxDB query language, is very similar to SQL."
   ]
  },
  {
   "cell_type": "code",
   "execution_count": null,
   "metadata": {},
   "outputs": [],
   "source": [
    "df = await client.query('SELECT * FROM \"efd\".\"autogen\".\"lsst.sal.Environment.soilTemperature\" WHERE time > now()-24h')\n"
   ]
  },
  {
   "cell_type": "markdown",
   "metadata": {},
   "source": [
    "At this point you can use [Pandas](https://pandas.pydata.org/pandas-docs/stable/reference/index.html) to analyze the data. First plot all CCD temperature data at full resolution."
   ]
  },
  {
   "cell_type": "code",
   "execution_count": null,
   "metadata": {},
   "outputs": [],
   "source": [
    "df.plot(y='avg1M')"
   ]
  },
  {
   "cell_type": "markdown",
   "metadata": {},
   "source": [
    "Now average data over 15 minute intervals and plot."
   ]
  },
  {
   "cell_type": "code",
   "execution_count": null,
   "metadata": {},
   "outputs": [],
   "source": [
    "ccdTemp01h = df['avg1M'].resample('1h').mean()"
   ]
  },
  {
   "cell_type": "code",
   "execution_count": null,
   "metadata": {},
   "outputs": [],
   "source": [
    "ccdTemp01h.plot()"
   ]
  },
  {
   "cell_type": "markdown",
   "metadata": {},
   "source": [
    "Finally, we can look at correlations between values in the database."
   ]
  },
  {
   "cell_type": "markdown",
   "metadata": {},
   "source": [
    "## Querying annotations"
   ]
  },
  {
   "cell_type": "markdown",
   "metadata": {},
   "source": [
    "In Chronograf, you can annotate the time-series to mark interesting events or features in the data. These annotations are saved in the `chronograf` database and can also be queried."
   ]
  },
  {
   "cell_type": "code",
   "execution_count": null,
   "metadata": {
    "scrolled": true
   },
   "outputs": [],
   "source": [
    "df = await client.query('SELECT * FROM \"chronograf\".\"autogen\".\"annotations\"')\n",
    "df"
   ]
  },
  {
   "cell_type": "markdown",
   "metadata": {},
   "source": [
    "## Adding annotations from the notebook"
   ]
  },
  {
   "cell_type": "markdown",
   "metadata": {},
   "source": [
    "This is an attempt to add annotations programmatically in Chronograf 1.7. Such functionality can be used to annotate results when doing analysis in the notebook. However we do not encourage it's use, we are waiting for InfluxDB 2.0 that will provide a better API to creating annotations.\n",
    "\n",
    "To create annotations you have to write a point on the `annotations` measurement of the `chronograf` database. For a point annotation, I've used the current time as `time` and have used the same value for the `start_time` and `modified_time_ns` fields. Those must be in Unix timestamps.  The other relevant field is the annotation `text`. Note that the `delete` field must be set to `False` that will show the annotation on the chart. The `id` tag is populated with a random hash."
   ]
  },
  {
   "cell_type": "code",
   "execution_count": null,
   "metadata": {},
   "outputs": [],
   "source": [
    "import random\n",
    "id  = \"%032x\" % random.getrandbits(128)"
   ]
  },
  {
   "cell_type": "code",
   "execution_count": null,
   "metadata": {},
   "outputs": [],
   "source": [
    "annotation = dict(time='2019-11-21T23:40:44Z',\n",
    "                  measurement='annotations',\n",
    "                  tags={'subsystem': 'rotator', 'id': id},\n",
    "                  fields={'text': 'Rotator test 4', 'start_time': 1574379880000000000, \n",
    "                          'modified_time_ns':1574379880000000000,  'deleted': False })\n"
   ]
  },
  {
   "cell_type": "code",
   "execution_count": null,
   "metadata": {},
   "outputs": [],
   "source": [
    "client.db = 'chronograf'\n",
    "await client.write(annotation)"
   ]
  }
 ],
 "metadata": {
  "kernelspec": {
   "display_name": "Python 3",
   "language": "python",
   "name": "python3"
  },
  "language_info": {
   "codemirror_mode": {
    "name": "ipython",
    "version": 3
   },
   "file_extension": ".py",
   "mimetype": "text/x-python",
   "name": "python",
   "nbconvert_exporter": "python",
   "pygments_lexer": "ipython3",
   "version": "3.7.8"
  }
 },
 "nbformat": 4,
 "nbformat_minor": 2
}
