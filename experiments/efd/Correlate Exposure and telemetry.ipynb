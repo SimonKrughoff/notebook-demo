{
 "cells": [
  {
   "cell_type": "markdown",
   "metadata": {},
   "source": [
    "## Accessing DM-EFD data\n"
   ]
  },
  {
   "cell_type": "markdown",
   "metadata": {},
   "source": [
    "In this notebook we demonstrate how to extract data from the DM-EFD using [aioinflux](https://aioinflux.readthedocs.io/en/stable/index.html), a Python client for InfluxDB, and proceed with data analysis using Pandas dataframes. \n",
    "\n",
    "This is complementaty to the [Chronograf](https://test-chronograf-efd.lsst.codes) interface which we use for time-series visualization.\n",
    "\n",
    "In addition to `aioinflux`, you'll need to install `pandas`, `numpy` and `matplotlib` to run this notebook."
   ]
  },
  {
   "cell_type": "code",
   "execution_count": null,
   "metadata": {
    "scrolled": true
   },
   "outputs": [],
   "source": [
    "import matplotlib\n",
    "%matplotlib notebook\n",
    "from matplotlib import pylab as plt\n",
    "import aioinflux\n",
    "import getpass\n",
    "import pandas as pd"
   ]
  },
  {
   "cell_type": "markdown",
   "metadata": {},
   "source": [
    "We'll access the DM-EFD instance deployed at the AuxTel lab in Tucson. You need to be on site or connected to the NOAO VPN. \n",
    "\n",
    "If you are familiar with the AuxTel lab environment, you might be able to authenticate using the generic `saluser`. Ping me at Slack (`@afausti`) if you have any problem."
   ]
  },
  {
   "cell_type": "code",
   "execution_count": null,
   "metadata": {},
   "outputs": [],
   "source": [
    "username = \"saluser\"\n",
    "password = getpass.getpass(f\"Password for {username}:\")"
   ]
  },
  {
   "cell_type": "markdown",
   "metadata": {},
   "source": [
    "The following configures the `aioinflux` Python client to connect to the DM-EFD InfluxDB instance. "
   ]
  },
  {
   "cell_type": "code",
   "execution_count": null,
   "metadata": {},
   "outputs": [],
   "source": [
    "client = aioinflux.InfluxDBClient(host='test-influxdb-efd.lsst.codes', \n",
    "                                  port='443', \n",
    "                                  ssl=True, \n",
    "                                  username=username, \n",
    "                                  password=password,\n",
    "                                  db='efd')"
   ]
  },
  {
   "cell_type": "markdown",
   "metadata": {},
   "source": [
    "We can configure the output to be a Pandas dataframe, which is very convenient for data analysis.  Specify a time range for data in `InfluxQL`.  The default is 20hrs ago, but this may need to be changed depending on how recently data was taken."
   ]
  },
  {
   "cell_type": "code",
   "execution_count": null,
   "metadata": {},
   "outputs": [],
   "source": [
    "client.output = 'dataframe'\n",
    "time_span = 'time > now() - 20h'"
   ]
  },
  {
   "cell_type": "markdown",
   "metadata": {},
   "source": [
    "Query each of the measurements we may want to correlate later in the notebook.  Note that this could be done as a single query, but the result is a dictionary of `DataFrames` which I find less convenient to use than named variables corresponding to one `DataFrame` each."
   ]
  },
  {
   "cell_type": "code",
   "execution_count": null,
   "metadata": {},
   "outputs": [],
   "source": [
    "df1 = await client.query(f'SELECT \"temp1\", \"temp2\", \"temp3\", \"temp4\", \"temp5\", \"temp6\", \"ccdTemp0\" FROM \"efd\".\"autogen\".\"lsst.sal.ATCamera.wreb\" WHERE {time_span}')\n",
    "\n",
    "df2 = await client.query(f'SELECT \"expTime\", \"numImages\" FROM \"efd\".\"autogen\".\"lsst.sal.ATCamera.command_takeImages\" WHERE {time_span}')\n",
    "\n",
    "df3 = await client.query(f'SELECT \"analog_I\" FROM \"efd\".\"autogen\".\"lsst.sal.ATCamera.wrebPower\" WHERE {time_span}')\n",
    "\n",
    "shutter_close = await client.query(f'SELECT \"priority\" FROM \"efd\".\"autogen\".\"lsst.sal.ATCamera.logevent_endShutterClose\" WHERE {time_span}')\n",
    "\n",
    "shutter_open = await client.query(f'SELECT \"priority\" FROM \"efd\".\"autogen\".\"lsst.sal.ATCamera.logevent_endShutterOpen\" WHERE {time_span}')\n",
    "\n",
    "start_readout = await client.query(f'SELECT \"priority\", \"private_sndStamp\", \"private_rcvStamp\" FROM \"efd\".\"autogen\".\"lsst.sal.ATCamera.logevent_startReadout\" WHERE {time_span}')\n",
    "\n",
    "end_readout = await client.query(f'SELECT \"priority\", \"private_sndStamp\", \"private_rcvStamp\" FROM \"efd\".\"autogen\".\"lsst.sal.ATCamera.logevent_endReadout\" WHERE {time_span}')\n",
    "\n",
    "start_integration = await client.query(f'SELECT \"priority\", \"private_sndStamp\", \"private_rcvStamp\" FROM \"efd\".\"autogen\".\"lsst.sal.ATCamera.logevent_startIntegration\" WHERE {time_span}')"
   ]
  },
  {
   "cell_type": "markdown",
   "metadata": {},
   "source": [
    "Select a telemetry stream, `analog_I`, and overplot log messages from the `start_integration`, `start_readout`, and `end_readout` log streams."
   ]
  },
  {
   "cell_type": "code",
   "execution_count": null,
   "metadata": {},
   "outputs": [],
   "source": [
    "plt = df3.plot(y=\"analog_I\")\n",
    "for i, r in start_integration.iterrows():\n",
    "    plt.axvline(pd.Timestamp(r['private_sndStamp'], unit='s'), c='g', alpha=0.3)\n",
    "for i, r in start_readout.iterrows():\n",
    "    plt.axvline(pd.Timestamp(r['private_sndStamp'], unit='s'), c='b', alpha=0.3)\n",
    "for i, r in end_readout.iterrows():\n",
    "    plt.axvline(pd.Timestamp(r['private_sndStamp'], unit='s'), c='r', alpha=0.3)"
   ]
  },
  {
   "cell_type": "markdown",
   "metadata": {},
   "source": [
    "Inspect time stamps.  There are three obvious ones: the timestamp from `InfluxDB`, `private_rcvStamp` from SAL, and `private_sndStamp` from SAL."
   ]
  },
  {
   "cell_type": "code",
   "execution_count": null,
   "metadata": {},
   "outputs": [],
   "source": [
    "plt = df3.plot()\n",
    "diff = []\n",
    "for i, r in start_integration.iterrows():\n",
    "    plt.axvline(i, c='g', alpha=0.3)\n",
    "    plt.axvline(pd.Timestamp(r['private_rcvStamp'], unit='s'), c='b', alpha=0.3)\n",
    "    plt.axvline(pd.Timestamp(r['private_sndStamp'], unit='s'), c='r', alpha=0.3)\n",
    "    diff.append(pd.Timestamp(r['private_rcvStamp'], unit='s') - pd.Timestamp(r['private_sndStamp'], unit='s'))\n",
    "    diff[-1] = diff[-1].value/1000000000"
   ]
  },
  {
   "cell_type": "markdown",
   "metadata": {},
   "source": [
    "Look at the histogram of timestamp differences for `private_rcvStamp` - `private_sndStamp`."
   ]
  },
  {
   "cell_type": "code",
   "execution_count": null,
   "metadata": {},
   "outputs": [],
   "source": [
    "diff_df = pd.DataFrame(diff)\n",
    "bins = [el/1. + 32.5 for el in range(10)]\n",
    "diff_df.hist(bins=bins)"
   ]
  },
  {
   "cell_type": "code",
   "execution_count": null,
   "metadata": {},
   "outputs": [],
   "source": []
  }
 ],
 "metadata": {
  "kernelspec": {
   "display_name": "Python 3",
   "language": "python",
   "name": "python3"
  },
  "language_info": {
   "codemirror_mode": {
    "name": "ipython",
    "version": 3
   },
   "file_extension": ".py",
   "mimetype": "text/x-python",
   "name": "python",
   "nbconvert_exporter": "python",
   "pygments_lexer": "ipython3",
   "version": "3.7.2"
  }
 },
 "nbformat": 4,
 "nbformat_minor": 2
}
