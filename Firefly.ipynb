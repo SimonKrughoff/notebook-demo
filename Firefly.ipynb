{
 "cells": [
  {
   "cell_type": "markdown",
   "metadata": {},
   "source": [
    "# Firefly Visualization Demo\n",
    "\n",
    "This notebook is intended to demonstrate the [Firefly](https://mospace.umsystem.edu/xmlui/handle/10355/5346) interactive interface for viewing image data. It also builds on the pedagogical explanations provided in [Part 3](https://pipelines.lsst.io/getting-started/display.html) of the LSST Stack v15.0 documentation.\n",
    "\n",
    "This tutorial seeks to teach you about how to use the LSST Science Pipelines to inspect outputs from `processCcd.py` by displaying images and source catalogs in the Firefly image viewer. In doing so, you’ll be introduced to some of the LSST Science Pipelines’ Python APIs, including:\n",
    "\n",
    "* Accessing datasets with the `Butler`.\n",
    "* Displaying images with `lsst.afw.display`"
   ]
  },
  {
   "cell_type": "markdown",
   "metadata": {},
   "source": [
    "## Set up\n",
    "\n",
    "This tutorial is meant to be run from the `jupyterhub` interface where the LSST stack is preinstalled. It assumes that the notebook is running a kernel with the `lsst_distrib` package set up.\n",
    "\n",
    "We start by importing packages from the LSST stack, Firefly, and standard python libraries:"
   ]
  },
  {
   "cell_type": "code",
   "execution_count": 3,
   "metadata": {},
   "outputs": [],
   "source": [
    "# LSST stack imports\n",
    "from lsst.daf.persistence import Butler\n",
    "import lsst.afw.display as afw_display\n",
    "\n",
    "# Firefly client imports\n",
    "from firefly_client import FireflyClient\n",
    "\n",
    "# Standard libraries in support of Firefly display\n",
    "from urllib.parse import urlparse, urlunparse, ParseResult\n",
    "from IPython.display import display, Markdown\n",
    "import os"
   ]
  },
  {
   "cell_type": "markdown",
   "metadata": {},
   "source": [
    "## Creating a Butler client\n",
    "\n",
    "All data in the LSST Pipelines flow through the `Butler`. LSST does not recommend directly accessing processed image files. Instead, use the `Butler` client available from the `lsst.daf.persistence` module imported above."
   ]
  },
  {
   "cell_type": "code",
   "execution_count": 4,
   "metadata": {},
   "outputs": [],
   "source": [
    "datadir = '/home/shared/Twinkles/output_data_v2'\n",
    "butler = Butler(datadir)\n",
    "dataId = {'filter': 'r', 'raft': '2,2', 'sensor': '1,1', 'visit': 235}"
   ]
  },
  {
   "cell_type": "markdown",
   "metadata": {},
   "source": [
    "The `Butler` client reads from the data repository specified with the inputs argument. In this specific case, the data were downloaded from: [here](https://lsst-web.ncsa.illinois.edu/~krughoff/data/twinkles_subset.tar.gz).  See the `README.txt` in `/project/shared/data/Twinkles_subset` for more info."
   ]
  },
  {
   "cell_type": "markdown",
   "metadata": {},
   "source": [
    "## Listing available data IDs in the Butler\n",
    "\n",
    "To get data from the `Butler` you need to know two things: the dataset type and the data ID.\n",
    "\n",
    "Every dataset stored by the Butler has a well-defined type. Tasks read specific dataset types and output other specific dataset types. The `processCcd.py` command reads in raw datasets and outputs calexp, or calibrated exposure, datasets (among others). It’s calexp datasets that you’ll display in this tutorial.\n",
    "\n",
    "Data IDs let you reference specific instances of a dataset. On the command line you select data IDs with `--id` arguments, filtering by keys like `visit`, `raft`, `ccd`, and `filter`.\n",
    "\n",
    "Now, use the `Butler` client to find what data IDs are available for the `calexp` dataset type:\n",
    "\n"
   ]
  },
  {
   "cell_type": "code",
   "execution_count": 7,
   "metadata": {},
   "outputs": [
    {
     "data": {
      "text/plain": [
       "[(230, '2,2', '1,1'),\n",
       " (231, '2,2', '1,1'),\n",
       " (232, '2,2', '1,1'),\n",
       " (233, '2,2', '1,1'),\n",
       " (234, '2,2', '1,1'),\n",
       " (235, '2,2', '1,1'),\n",
       " (236, '2,2', '1,1'),\n",
       " (237, '2,2', '1,1'),\n",
       " (238, '2,2', '1,1'),\n",
       " (239, '2,2', '1,1')]"
      ]
     },
     "execution_count": 7,
     "metadata": {},
     "output_type": "execute_result"
    }
   ],
   "source": [
    "butler.queryMetadata('calexp', ['visit', 'raft', 'ccd'], dataId={'filter': 'r'})\n"
   ]
  },
  {
   "cell_type": "markdown",
   "metadata": {},
   "source": [
    "The printed output is a list of (visit, ccd) key tuples for all data IDs where the filter key is the HSC-R band:"
   ]
  },
  {
   "cell_type": "markdown",
   "metadata": {},
   "source": [
    "Retrieve an image and a catalog from the butler."
   ]
  },
  {
   "cell_type": "code",
   "execution_count": 5,
   "metadata": {},
   "outputs": [],
   "source": [
    "calexp = butler.get('calexp', **dataId)\n",
    "src = butler.get('src', **dataId)"
   ]
  },
  {
   "cell_type": "markdown",
   "metadata": {},
   "source": [
    "## Using `afwDisplay`"
   ]
  },
  {
   "cell_type": "markdown",
   "metadata": {},
   "source": [
    "Set up the display for using `afwDisplay`."
   ]
  },
  {
   "cell_type": "code",
   "execution_count": null,
   "metadata": {},
   "outputs": [],
   "source": [
    "afw_display.setDefaultBackend('firefly')\n",
    "my_channel = '{}_test_channel'.format(os.environ['USER'])\n",
    "internal_server = 'http://firefly:8080'"
   ]
  },
  {
   "cell_type": "markdown",
   "metadata": {},
   "source": [
    "> Currently, the interaction URL and the visualization URL are different since the interaction URL is internal to the k8s cluster.  This will likely change, but for now we will discover the name to use for the visualization URL."
   ]
  },
  {
   "cell_type": "code",
   "execution_count": null,
   "metadata": {},
   "outputs": [],
   "source": [
    "parsed_url = urlparse(os.environ['EXTERNAL_URL'])\n",
    "parse_dict = parsed_url._asdict()\n",
    "parse_dict['path'] = ''\n",
    "parsed_url = ParseResult(**parse_dict)\n",
    "external_server = urlunparse(parsed_url)"
   ]
  },
  {
   "cell_type": "code",
   "execution_count": null,
   "metadata": {},
   "outputs": [],
   "source": [
    "display(Markdown('> Open a browser window to [this]({}/firefly/slate.html?__wsch={}) link.'.format(external_server, my_channel)))"
   ]
  },
  {
   "cell_type": "markdown",
   "metadata": {},
   "source": [
    "Set up the `afwDisplay.Display` object to use later."
   ]
  },
  {
   "cell_type": "code",
   "execution_count": null,
   "metadata": {},
   "outputs": [],
   "source": [
    "afw_display = afw_display.getDisplay(frame=1, \n",
    "                                  host=internal_server,\n",
    "                                  name=my_channel)"
   ]
  },
  {
   "cell_type": "markdown",
   "metadata": {},
   "source": [
    "First display an image with mask planes and then overplot some sources.  This is limited to the top 500 as plotting the whole catalog takes some time, since it is a serial process."
   ]
  },
  {
   "cell_type": "code",
   "execution_count": null,
   "metadata": {},
   "outputs": [],
   "source": [
    "afw_display.mtv(calexp)"
   ]
  },
  {
   "cell_type": "code",
   "execution_count": null,
   "metadata": {},
   "outputs": [],
   "source": [
    "for record in src[:500]:\n",
    "    afw_display.dot('o', record.getX(), record.getY())"
   ]
  },
  {
   "cell_type": "markdown",
   "metadata": {},
   "source": [
    "## Using `FireflyClient` directly."
   ]
  },
  {
   "cell_type": "markdown",
   "metadata": {},
   "source": [
    "We can also use the firefly client directly to make plots and add catalogs to the visualization.  First construct the `FireflyClient` object."
   ]
  },
  {
   "cell_type": "code",
   "execution_count": null,
   "metadata": {},
   "outputs": [],
   "source": [
    "host = internal_server\n",
    "html = \"slate.html\"\n",
    "fc = FireflyClient(host, channel=my_channel, html_file=html)"
   ]
  },
  {
   "cell_type": "markdown",
   "metadata": {},
   "source": [
    "We need a FITS file to pass to Firefly, so first persist the catalog to local storage.  Then upload it."
   ]
  },
  {
   "cell_type": "code",
   "execution_count": null,
   "metadata": {},
   "outputs": [],
   "source": [
    "src.writeFits('src.fits')\n",
    "src_key = fc.upload_file('src.fits')"
   ]
  },
  {
   "cell_type": "markdown",
   "metadata": {},
   "source": [
    "Once the file is uploaded, we can generate a scrollable table view widget.  Note that the label you give the table here, `tbl_id='src'`, is how you will refer to that dataset in future plots."
   ]
  },
  {
   "cell_type": "code",
   "execution_count": null,
   "metadata": {},
   "outputs": [],
   "source": [
    "status = fc.show_table(src_key, tbl_id='src', page_size=1000)"
   ]
  },
  {
   "cell_type": "markdown",
   "metadata": {},
   "source": [
    "Finally, we can make a scatter plot and send it to the display canvas.  Plots are rendered by plotly, so follow the same syntax for construction.  For info on plotly see the [primer](https://plot.ly/python/getting-started/) and [examples](https://plot.ly/python/line-and-scatter/)."
   ]
  },
  {
   "cell_type": "markdown",
   "metadata": {},
   "source": [
    "Style for the plot"
   ]
  },
  {
   "cell_type": "code",
   "execution_count": null,
   "metadata": {},
   "outputs": [],
   "source": [
    "layout1 = dict(\n",
    "               title='test ap flux/model mag vs. log(ap flux)', \n",
    "               xaxis=dict(title='Model'), \n",
    "               yaxis=dict(title='Ap/Model')\n",
    "              )"
   ]
  },
  {
   "cell_type": "markdown",
   "metadata": {},
   "source": [
    "Data to plot.  Note the reference to 'src'.  That allows for columnar math in the construction of the plot."
   ]
  },
  {
   "cell_type": "code",
   "execution_count": null,
   "metadata": {},
   "outputs": [],
   "source": [
    "trace1 = dict(\n",
    "              tbl_id='src', \n",
    "              x='tables::base_CircularApertureFlux_12_0_flux/base_GaussianFlux_flux',\n",
    "              y='tables::log10(base_CircularApertureFlux_12_0_flux)',\n",
    "              mode='markers',\n",
    "              type='scatter',\n",
    "              marker=dict(size=4)\n",
    "             )"
   ]
  },
  {
   "cell_type": "markdown",
   "metadata": {},
   "source": [
    "Send the plot to the visualization canvas."
   ]
  },
  {
   "cell_type": "code",
   "execution_count": null,
   "metadata": {},
   "outputs": [],
   "source": [
    "status = fc.show_chart(layout=layout1, data=[trace1])"
   ]
  }
 ],
 "metadata": {
  "kernelspec": {
   "display_name": "LSST_Stack (Python 3)",
   "language": "python",
   "name": "lsst_stack"
  },
  "language_info": {
   "codemirror_mode": {
    "name": "ipython",
    "version": 3
   },
   "file_extension": ".py",
   "mimetype": "text/x-python",
   "name": "python",
   "nbconvert_exporter": "python",
   "pygments_lexer": "ipython3",
   "version": "3.6.2"
  }
 },
 "nbformat": 4,
 "nbformat_minor": 2
}
