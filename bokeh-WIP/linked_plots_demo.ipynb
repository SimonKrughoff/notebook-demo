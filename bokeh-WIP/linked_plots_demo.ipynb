{
 "cells": [
  {
   "cell_type": "code",
   "execution_count": 1,
   "metadata": {},
   "outputs": [
    {
     "data": {
      "text/plain": [
       "[]"
      ]
     },
     "execution_count": 1,
     "metadata": {},
     "output_type": "execute_result"
    }
   ],
   "source": [
    "%%!\n",
    "if [ ! -d \"$HOME/DATA/quantquote_daily_sp500_83986/daily\" ]; then\n",
    "  cd ~/DATA\n",
    "  curl -O http://quantquote.com/files/quantquote_daily_sp500_83986.zip\n",
    "  unzip quantquote_daily_sp500_83986.zip\n",
    "fi"
   ]
  },
  {
   "cell_type": "code",
   "execution_count": 3,
   "metadata": {},
   "outputs": [],
   "source": [
    "import linked_plots as lp\n",
    "plot = lp.linked_plots()"
   ]
  },
  {
   "cell_type": "code",
   "execution_count": 4,
   "metadata": {},
   "outputs": [],
   "source": [
    "import urllib, os\n",
    "import bokeh\n",
    "def show_with_bokeh_server(obj):\n",
    "    def jupyter_proxy_url(notebook_url, port):\n",
    "        base_url = os.environ['EXTERNAL_URL']\n",
    "        service_url_path = os.environ['JUPYTERHUB_SERVICE_PREFIX']\n",
    "        proxy_url_path = 'proxy/%d' % port\n",
    "\n",
    "        user_url = urllib.parse.urljoin(base_url, service_url_path)\n",
    "        full_url = urllib.parse.urljoin(user_url, proxy_url_path)\n",
    "        return full_url\n",
    "\n",
    "    bokeh.io.show(obj, proxy_url_func=jupyter_proxy_url)"
   ]
  },
  {
   "cell_type": "code",
   "execution_count": 5,
   "metadata": {},
   "outputs": [
    {
     "data": {
      "application/vnd.bokehjs_exec.v0+json": "",
      "text/html": [
       "\n",
       "<script\n",
       "    src=\"https://jupyterlabdemo.lsst.codes/user/simonkrughoff/proxy/36304/autoload.js?bokeh-autoload-element=a4ca7cd7-2555-4b6a-938f-efbd48a4cc45&bokeh-app-path=/user/simonkrughoff/proxy/36304&bokeh-absolute-url=https://jupyterlabdemo.lsst.codes/user/simonkrughoff/proxy/36304&resources=none\"\n",
       "    id=\"a4ca7cd7-2555-4b6a-938f-efbd48a4cc45\"\n",
       "    data-bokeh-model-id=\"\"\n",
       "    data-bokeh-doc-id=\"\"\n",
       "></script>"
      ]
     },
     "metadata": {
      "application/vnd.bokehjs_exec.v0+json": {
       "server_id": "ea83757b6aba4d5289fb8338ed500552"
      }
     },
     "output_type": "display_data"
    }
   ],
   "source": [
    "show_with_bokeh_server(plot.make_ticker_plot)"
   ]
  },
  {
   "cell_type": "code",
   "execution_count": null,
   "metadata": {},
   "outputs": [],
   "source": []
  }
 ],
 "metadata": {
  "kernelspec": {
   "display_name": "LSST_Stack (Python 3)",
   "language": "python",
   "name": "lsst_stack"
  },
  "language_info": {
   "codemirror_mode": {
    "name": "ipython",
    "version": 3
   },
   "file_extension": ".py",
   "mimetype": "text/x-python",
   "name": "python",
   "nbconvert_exporter": "python",
   "pygments_lexer": "ipython3",
   "version": "3.6.2"
  }
 },
 "nbformat": 4,
 "nbformat_minor": 2
}
