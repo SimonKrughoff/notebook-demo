{
 "cells": [
  {
   "cell_type": "markdown",
   "metadata": {},
   "source": [
    "First, analyze the raw token.\n",
    "This does not validate the signature, just takes the JSON apart and looks at the contents."
   ]
  },
  {
   "cell_type": "code",
   "execution_count": null,
   "metadata": {},
   "outputs": [],
   "source": [
    "import base64\n",
    "import json\n",
    "import logging\n",
    "import os\n",
    "import time\n",
    "\n",
    "token = os.getenv('ACCESS_TOKEN', None)\n",
    "\n",
    "if token is None:\n",
    "    logging.fatal('You have no token.')\n",
    "    \n",
    "token_parts = token.split('.')\n",
    "\n",
    "if len(token_parts) != 3:\n",
    "    logging.fatal('Your token is malformed.')\n",
    "    \n",
    "(token_header, token_payload, token_signature) = token_parts\n",
    "\n",
    "# If the payload isn't padded to the right amount, just add some extra padding.\n",
    "# Python complains about lack of padding, but not extra padding\n",
    "token_dict = json.loads(base64.b64decode(token_payload + '====='))\n",
    "\n",
    "print(\"Your name is\", token_dict['name'])\n",
    "print(\"Your uid is\", token_dict['uid'])\n",
    "print(\"Your uid number is\", token_dict['uidNumber'])\n",
    "print(\"The token issuer is\", token_dict['iss'])\n",
    "\n",
    "iat = time.gmtime(int(token_dict['iat']))\n",
    "print(\"Your token was issued at UTC:\", time.asctime(iat))\n",
    "\n",
    "exp = time.gmtime(int(token_dict['exp']))\n",
    "print(\"Your token expires at UTC:   \", time.asctime(exp))\n",
    "\n",
    "current_time = time.gmtime()\n",
    "print(\"The time is currently UTC:   \", time.asctime(current_time))\n",
    "\n",
    "if current_time < iat:\n",
    "    logging.error(\"Your token isn't valid yet.\")\n",
    "    \n",
    "if iat < current_time and current_time < exp:\n",
    "    print(\"Your token is VALID.\")\n",
    "\n",
    "if current_time > exp:\n",
    "    logging.error(\"Your token is expired!\")\n",
    "    raise RuntimeError(f\"Your token expired at UTC: {time.asctime(exp)}\")"
   ]
  },
  {
   "cell_type": "markdown",
   "metadata": {},
   "source": [
    "Now, try to gather some additional information from the token issuer, including verifying the token."
   ]
  },
  {
   "cell_type": "code",
   "execution_count": null,
   "metadata": {},
   "outputs": [],
   "source": [
    "import json\n",
    "from urllib.parse import urljoin\n",
    "\n",
    "import requests\n",
    "\n",
    "# Only run on int as that's the only place the analyze endpoint exists\n",
    "if 'lsst-lsp-int' in os.environ['EXTERNAL_INSTANCE_URL']:\n",
    "    analyze_url = urljoin(token_dict['iss'], '/auth/analyze')\n",
    "    r = requests.post(analyze_url, data={'token': token})\n",
    "    data = r.json()\n",
    "    print(json.dumps(data, indent=4))\n",
    "else:\n",
    "    logging.info('Not on a platform that supports the analyze endpoint.')"
   ]
  }
 ],
 "metadata": {
  "kernelspec": {
   "display_name": "Python 3",
   "language": "python",
   "name": "python3"
  },
  "language_info": {
   "codemirror_mode": {
    "name": "ipython",
    "version": 3
   },
   "file_extension": ".py",
   "mimetype": "text/x-python",
   "name": "python",
   "nbconvert_exporter": "python",
   "pygments_lexer": "ipython3",
   "version": "3.6.8"
  }
 },
 "nbformat": 4,
 "nbformat_minor": 4
}
